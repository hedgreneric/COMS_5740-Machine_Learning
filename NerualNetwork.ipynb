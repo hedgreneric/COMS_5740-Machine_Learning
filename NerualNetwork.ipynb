{
 "cells": [
  {
   "cell_type": "markdown",
   "id": "f736cedc-8d2e-4806-8bbb-e44611d8fbe5",
   "metadata": {},
   "source": [
    "## Feed-forward Neural Network with MLP (Numpy)"
   ]
  },
  {
   "cell_type": "code",
   "execution_count": 1,
   "id": "241f742f-f7c5-4ba6-97b2-9b1e9ef2274e",
   "metadata": {},
   "outputs": [],
   "source": [
    "import numpy as np\n",
    "\n",
    "def relu(x):\n",
    "    return np.maximum(x, 0)\n",
    "\n",
    "def passthru(x):\n",
    "    return x\n",
    "\n",
    "def tanh(x):\n",
    "    return np.tanh(x)\n",
    "\n",
    "class NeuralNetwork():\n",
    "\n",
    "    def __init__(self, input_dim=1,\n",
    "                 output_dim=24,\n",
    "                 units=[20,20,20],\n",
    "                 activations=[\"relu\", \"relu\", \"relu\", \"passthru\"]):\n",
    "        if activations[-1] != \"passthru\":\n",
    "            raise ValueError(\"output activation must be passthru\")\n",
    "        self.input_dim = input_dim\n",
    "        self.output_dim = output_dim\n",
    "        self.units = units\n",
    "        self.num_layers = len(units)\n",
    "        \n",
    "        self.activations = []\n",
    "        for act in activations:\n",
    "            if act == \"relu\":\n",
    "                self.activations += [relu]\n",
    "            elif act == \"passthru\":\n",
    "                self.activations += [passthru]\n",
    "            else:\n",
    "                self.activations += [tanh]\n",
    "    \n",
    "        unit_list = [input_dim]\n",
    "        for u in self.units:\n",
    "            unit_list += [u, u]\n",
    "        unit_list += [output_dim]\n",
    "        self.shapes = []\n",
    "        for l in range(self.num_layers+1):\n",
    "            self.shapes += [(unit_list[2*l], unit_list[2*l+1])]\n",
    "        \n",
    "        self.weight = []\n",
    "        self.bias = []\n",
    "        self.parameter_count = 0\n",
    "        idx = 0\n",
    "        for shape in self.shapes:\n",
    "            self.weight.append(np.zeros(shape=shape))\t\n",
    "            self.bias.append(np.zeros(shape=shape[1]))\n",
    "            self.parameter_count += (np.product(shape) + shape[1])\n",
    "            idx += 1\n",
    "\n",
    "    def set_weights(self, model_params):\n",
    "        pointer = 0\n",
    "        for i in range(len(self.shapes)):\n",
    "            w_shape = self.shapes[i]\n",
    "            b_shape = self.shapes[i][1]\n",
    "            s_w = np.product(w_shape)\n",
    "            s = s_w + b_shape\n",
    "            chunk = np.array(model_params[pointer:pointer+s])\n",
    "            self.weight[i] = chunk[:s_w].reshape(w_shape)\n",
    "            self.bias[i] = chunk[s_w:].reshape(b_shape)\n",
    "            pointer += s\n",
    "\n",
    "    def predict(self, X):\n",
    "        h = np.array([X]).flatten()\n",
    "        num_layers= len(self.weight)\n",
    "        for i in range(num_layers):\n",
    "            w = self.weight[i]\n",
    "            b = self.bias[i]\n",
    "            h = np.matmul(h, w) + b\n",
    "            h = self.activations[i](h)\n",
    "        return h"
   ]
  },
  {
   "cell_type": "code",
   "execution_count": 2,
   "id": "18dbf3f1-a5ae-49d8-88f9-624e0fe4e44b",
   "metadata": {},
   "outputs": [
    {
     "name": "stdout",
     "output_type": "stream",
     "text": [
      "[31.]\n"
     ]
    },
    {
     "name": "stderr",
     "output_type": "stream",
     "text": [
      "/tmp/ipykernel_8785/3315341826.py:1: DeprecationWarning: `product` is deprecated as of NumPy 1.25.0, and will be removed in NumPy 2.0. Please use `prod` instead.\n",
      "  NN = NeuralNetwork(input_dim=5, output_dim=1, units=[5], activations=[\"relu\",\"passthru\"])\n",
      "/tmp/ipykernel_8785/3315341826.py:3: DeprecationWarning: `product` is deprecated as of NumPy 1.25.0, and will be removed in NumPy 2.0. Please use `prod` instead.\n",
      "  NN.set_weights(params)\n"
     ]
    }
   ],
   "source": [
    "NN = NeuralNetwork(input_dim=5, output_dim=1, units=[5], activations=[\"relu\",\"passthru\"])\n",
    "params = np.ones(NN.parameter_count)\n",
    "NN.set_weights(params)\n",
    "print (NN.predict(np.ones(5)))"
   ]
  },
  {
   "cell_type": "markdown",
   "id": "04ee2de4-e44d-406f-9dad-a8d93ef86c8b",
   "metadata": {},
   "source": [
    "## Feed-forward Neural Network with MLP (Torch)"
   ]
  },
  {
   "cell_type": "code",
   "execution_count": 3,
   "id": "8b6ba196-8e3b-4bae-881a-a9e5f3877863",
   "metadata": {},
   "outputs": [
    {
     "data": {
      "text/plain": [
       "tensor([31.], grad_fn=<ViewBackward0>)"
      ]
     },
     "execution_count": 3,
     "metadata": {},
     "output_type": "execute_result"
    }
   ],
   "source": [
    "import torch\n",
    "import torch.nn as nn\n",
    "\n",
    "torch_nn = nn.Sequential(\n",
    "    nn.Linear(5, 5),\n",
    "    nn.ReLU(),\n",
    "    nn.Linear(5, 1)\n",
    ")\n",
    "\n",
    "for module in torch_nn:\n",
    "    if hasattr(module, 'weight'):  # Check if the module has the 'weight' attribute\n",
    "        with torch.no_grad():  # Disable gradient tracking\n",
    "            module.weight = nn.Parameter(torch.ones_like(module.weight))\n",
    "            if module.bias is not None:\n",
    "                module.bias = nn.Parameter(torch.ones_like(module.bias))\n",
    "\n",
    "torch_nn.forward(torch.from_numpy(np.ones(5)).float())"
   ]
  },
  {
   "cell_type": "markdown",
   "id": "4871cbb4-37eb-4dbd-a4f0-63c31e508c6a",
   "metadata": {},
   "source": [
    "## Feed-forward Neural Network with MLP (Torch): Regression"
   ]
  },
  {
   "cell_type": "code",
   "execution_count": 4,
   "id": "49a1ee5f-54d2-48e7-95b5-18bfe40b6c90",
   "metadata": {},
   "outputs": [],
   "source": [
    "import torch\n",
    "import torch.nn as nn\n",
    "import torch.optim as optim"
   ]
  },
  {
   "cell_type": "code",
   "execution_count": 5,
   "id": "45805825-7413-47fb-9f11-5437be3cd58c",
   "metadata": {},
   "outputs": [
    {
     "name": "stdout",
     "output_type": "stream",
     "text": [
      "Epoch [10/100], Loss: 3.0852\n",
      "Epoch [20/100], Loss: 1.1651\n",
      "Epoch [30/100], Loss: 0.5188\n",
      "Epoch [40/100], Loss: 0.1786\n",
      "Epoch [50/100], Loss: 0.0795\n",
      "Epoch [60/100], Loss: 0.1305\n",
      "Epoch [70/100], Loss: 0.1452\n",
      "Epoch [80/100], Loss: 0.2555\n",
      "Epoch [90/100], Loss: 0.1048\n",
      "Epoch [100/100], Loss: 0.0264\n"
     ]
    }
   ],
   "source": [
    "# Synthetic dataset: y = 3*x + 2 + noise\n",
    "x = torch.randn(100, 1)  # 100 data points\n",
    "y = 3 * x + 2 + 0.1 * torch.randn(100, 1)  # True function with some noise\n",
    "\n",
    "# Dataset and DataLoader for mini-batch processing\n",
    "from torch.utils.data import TensorDataset, DataLoader\n",
    "dataset = TensorDataset(x, y)\n",
    "dataloader = DataLoader(dataset, batch_size=10, shuffle=True)\n",
    "\n",
    "model = nn.Sequential(\n",
    "    nn.Linear(1, 20),  # Input features size is 1, output size is 20\n",
    "    nn.ReLU(),\n",
    "    nn.Linear(20, 1)  # Final layer outputting one value for regression\n",
    ")\n",
    "\n",
    "criterion = nn.MSELoss()\n",
    "optimizer = optim.SGD(model.parameters(), lr=0.001)\n",
    "\n",
    "# Number of epochs (iterations over the entire dataset)\n",
    "num_epochs = 100\n",
    "\n",
    "for epoch in range(num_epochs):\n",
    "    for inputs, targets in dataloader:\n",
    "        # Forward pass\n",
    "        outputs = model(inputs)\n",
    "        loss = criterion(outputs, targets)\n",
    "\n",
    "        # Backward pass and optimize\n",
    "        optimizer.zero_grad()  # Clear existing gradients\n",
    "        loss.backward()  # Compute gradients\n",
    "        optimizer.step()  # Update parameters\n",
    "    \n",
    "    if (epoch+1) % 10 == 0:\n",
    "        print(f'Epoch [{epoch+1}/{num_epochs}], Loss: {loss.item():.4f}')"
   ]
  }
 ],
 "metadata": {
  "kernelspec": {
   "display_name": "coms5740",
   "language": "python",
   "name": "python3"
  },
  "language_info": {
   "codemirror_mode": {
    "name": "ipython",
    "version": 3
   },
   "file_extension": ".py",
   "mimetype": "text/x-python",
   "name": "python",
   "nbconvert_exporter": "python",
   "pygments_lexer": "ipython3",
   "version": "3.12.7"
  }
 },
 "nbformat": 4,
 "nbformat_minor": 5
}
